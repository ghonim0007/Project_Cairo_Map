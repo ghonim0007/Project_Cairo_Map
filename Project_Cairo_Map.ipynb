{
 "cells": [
  {
   "cell_type": "markdown",
   "metadata": {},
   "source": [
    "### Make sure you have the required libraries installed\n",
    "Run the following command in your terminal:\n",
    "\n",
    "```bash\n",
    "pip install prettymaps matplotlib osmnx"
   ]
  },
  {
   "cell_type": "code",
   "execution_count": null,
   "metadata": {},
   "outputs": [],
   "source": [
    "import prettymaps\n",
    "\n",
    "lat, lon = 30.0444, 31.2357\n",
    "radius = 2000  # 5000\n",
    "\n",
    "\n",
    "plot = prettymaps.plot(\n",
    "    (lat, lon),  \n",
    "    radius=radius,  \n",
    "    layers={\n",
    "        \n",
    "        \"streets\": {\n",
    "            \"width\": {\n",
    "                \"primary\": 5,\n",
    "                \"secondary\": 4,\n",
    "                \"tertiary\": 3,\n",
    "                \"residential\": 2,\n",
    "            },\n",
    "            \"circle\": False,\n",
    "        },\n",
    "        \n",
    "        \"building\": {\n",
    "            \"tags\": {\"building\": True},\n",
    "            \"hue\": 0.1,\n",
    "            \"saturation\": 0.6,\n",
    "            \"lightness\": 0.5,\n",
    "        },\n",
    "        \n",
    "        \"water\": {\n",
    "            \"tags\": {\"water\": True},\n",
    "            \"hue\": 0.6,\n",
    "            \"saturation\": 0.7,\n",
    "            \"lightness\": 0.7,\n",
    "        },\n",
    "\n",
    "        \"greenery\": {\n",
    "            \"tags\": {\"landuse\": \"grass\", \"natural\": \"wood\", \"leisure\": \"park\"},\n",
    "            \"hue\": 0.3,\n",
    "            \"saturation\": 0.7,\n",
    "            \"lightness\": 0.6,\n",
    "        },\n",
    "    },\n",
    "    \n",
    "    style={\n",
    "        \"background\": {\"color\": \"#f5f5f5\"},  \n",
    "        \"streets\": {\"color\": \"#333333\"},  \n",
    "        \"water\": {\"color\": \"#aad3df\"},  \n",
    "        \"greenery\": {\"color\": \"#88b988\"},  \n",
    "        \"building\": {\"color\": \"#cccccc\"},  \n",
    "    },\n",
    ")\n",
    "\n",
    "plot.show()"
   ]
  }
 ],
 "metadata": {
  "kernelspec": {
   "display_name": "urban_simulation",
   "language": "python",
   "name": "python3"
  },
  "language_info": {
   "name": "python",
   "version": "3.9.21"
  }
 },
 "nbformat": 4,
 "nbformat_minor": 2
}
